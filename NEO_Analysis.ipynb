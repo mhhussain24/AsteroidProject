{
 "cells": [
  {
   "cell_type": "code",
   "execution_count": null,
   "id": "c54f9d2b",
   "metadata": {},
   "outputs": [],
   "source": [
    "### Import dependencies.\n",
    "from sklearn.model_selection import train_test_split\n",
    "from sklearn.preprocessing import StandardScaler,OneHotEncoder\n",
    "import pandas as pd\n",
    "import tensorflow as tf\n",
    "\n",
    "### Import and read neo_v2.csv.\n",
    "import pandas as pd \n",
    "neo_df = pd.read_csv(\"./Resources/neo_v2.csv\")\n",
    "\n",
    "### Display the first 10 columns.\n",
    "neo_df.head()"
   ]
  }
 ],
 "metadata": {
  "kernelspec": {
   "display_name": "PythonData",
   "language": "python",
   "name": "pythondata"
  },
  "language_info": {
   "codemirror_mode": {
    "name": "ipython",
    "version": 3
   },
   "file_extension": ".py",
   "mimetype": "text/x-python",
   "name": "python",
   "nbconvert_exporter": "python",
   "pygments_lexer": "ipython3",
   "version": "3.7.1"
  }
 },
 "nbformat": 4,
 "nbformat_minor": 5
}
